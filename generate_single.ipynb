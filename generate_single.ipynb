{
 "cells": [
  {
   "cell_type": "markdown",
   "metadata": {},
   "source": [
    "## Use albumentations library for image augmentation\n",
    "To generate object detection dataset. Currently works for Pascal VOC format"
   ]
  },
  {
   "cell_type": "markdown",
   "metadata": {},
   "source": [
    "Notebook author: yptheangel(Choo Wilson)<br>\n",
    "References: <br>\n",
    "https://www.curiousily.com/posts/image-data-augmentation-for-tensorflow-2-keras-and-pytorch-with-albumentations-in-python/\n",
    "https://github.com/albumentations-team/albumentations_examples/blob/master/notebooks/example_bboxes.ipynb"
   ]
  },
  {
   "cell_type": "code",
   "execution_count": null,
   "metadata": {},
   "outputs": [],
   "source": [
    "%matplotlib inline\n",
    "import cv2\n",
    "import os\n",
    "import os.path as osp\n",
    "import xml.etree.ElementTree as ET\n",
    "import numpy as np\n",
    "import albumentations as A\n",
    "from albumentations import (Compose,BboxParams)\n",
    "from matplotlib import pyplot as plt"
   ]
  },
  {
   "cell_type": "code",
   "execution_count": null,
   "metadata": {},
   "outputs": [],
   "source": [
    "def getObjects(fullname):\n",
    "    CLS=['avocado','banana']\n",
    "    bb = \"\"\n",
    "    objs=[]\n",
    "    cls_ids=[]\n",
    "    in_file = open(fullname)\n",
    "    tree=ET.parse(in_file)\n",
    "    root = tree.getroot()\n",
    "    # iterate through the objects inside a xml file\n",
    "    for i, obj in enumerate(root.iter('object')):\n",
    "        difficult = obj.find('difficult').text\n",
    "        cls = obj.find('name').text\n",
    "        if cls not in CLS or int(difficult)==1:\n",
    "            continue\n",
    "        cls_id = CLS.index(cls)\n",
    "        xmlbox = obj.find('bndbox')\n",
    "        b = [int(xmlbox.find('xmin').text), int(xmlbox.find('ymin').text), int(xmlbox.find('xmax').text), int(xmlbox.find('ymax').text)]\n",
    "        c_id = cls_id\n",
    "        objs.append(b)\n",
    "        cls_ids.append(c_id)\n",
    "    return objs,cls_ids"
   ]
  },
  {
   "cell_type": "code",
   "execution_count": null,
   "metadata": {},
   "outputs": [],
   "source": [
    "# Functions to visualize bounding boxes and class labels on an image. \n",
    "# Based on https://github.com/facebookresearch/Detectron/blob/master/detectron/utils/vis.py\n",
    "\n",
    "BOX_COLOR = (0, 200,0)\n",
    "TEXT_COLOR = (0, 0, 0)\n",
    "\n",
    "def visualize_bbox(img, bbox, class_id, class_idx_to_name, color=BOX_COLOR, thickness=2):\n",
    "    x_min, y_min, x_max, y_max = bbox\n",
    "    cv2.rectangle(img, (int(x_min), int(y_min)), (int(x_max), int(y_max)), color=color, thickness=thickness)\n",
    "    class_name = class_idx_to_name[class_id]\n",
    "    ((text_width, text_height), _) = cv2.getTextSize(class_name, cv2.FONT_HERSHEY_SIMPLEX, 0.35, 1)    \n",
    "    cv2.rectangle(img, (int(x_min), int(y_min - int(1.3 * text_height))), (int(x_min + text_width), int(y_min)), BOX_COLOR, -1)\n",
    "    cv2.putText(img, class_name, (int(x_min), int(y_min - int(0.3 * text_height))), cv2.FONT_HERSHEY_SIMPLEX, 0.35,TEXT_COLOR, lineType=cv2.LINE_AA)\n",
    "    return img\n",
    "\n",
    "def visualize(annotations, category_id_to_name):\n",
    "    img = annotations['image'].copy()\n",
    "    for idx, bbox in enumerate(annotations['bboxes']):\n",
    "        img = visualize_bbox(img, bbox, annotations['category_id'][idx], category_id_to_name)\n",
    "    plt.figure(figsize=(12, 10))\n",
    "    plt.imshow(cv2.cvtColor(img,cv2.COLOR_BGR2RGB))"
   ]
  },
  {
   "cell_type": "code",
   "execution_count": null,
   "metadata": {},
   "outputs": [],
   "source": [
    "def get_aug(aug, min_area=0., min_visibility=0.):\n",
    "       return Compose(aug, bbox_params=BboxParams(format='pascal_voc', min_area=min_area, min_visibility=min_visibility, label_fields=['category_id']))"
   ]
  },
  {
   "cell_type": "code",
   "execution_count": null,
   "metadata": {},
   "outputs": [],
   "source": [
    "doc_aug = [\n",
    "    A.RandomCrop(p=0.5,height=200,width=200),\n",
    "    A.RandomBrightnessContrast(p=0.6),\n",
    "    A.Rotate(limit=10, p=0.3),\n",
    "    A.VerticalFlip(p=0.2),\n",
    "    A.HorizontalFlip(p=0.2),\n",
    "]"
   ]
  },
  {
   "cell_type": "code",
   "execution_count": null,
   "metadata": {},
   "outputs": [],
   "source": [
    "category_id_to_name = {0:'avocado',1:'banana'}"
   ]
  },
  {
   "cell_type": "code",
   "execution_count": null,
   "metadata": {},
   "outputs": [],
   "source": [
    "# imageFile = r\"C:\\Users\\choowilson\\Desktop\\train\\avcd0.jpg\"\n",
    "# xmlFile = r\"C:\\Users\\choowilson\\Desktop\\train\\avcd0.xml\"\n",
    "imageFile = r\"C:\\Users\\choowilson\\Desktop\\train\\bnnn1.jpg\"\n",
    "xmlFile = r\"C:\\Users\\choowilson\\Desktop\\train\\bnnn1.xml\""
   ]
  },
  {
   "cell_type": "code",
   "execution_count": null,
   "metadata": {},
   "outputs": [],
   "source": [
    "image = cv2.imread(imageFile)\n",
    "print(image.shape)"
   ]
  },
  {
   "cell_type": "code",
   "execution_count": null,
   "metadata": {},
   "outputs": [],
   "source": [
    "objects , classIds = getObjects(xmlFile)"
   ]
  },
  {
   "cell_type": "code",
   "execution_count": null,
   "metadata": {},
   "outputs": [],
   "source": [
    "annotations = {'image':image,'bboxes':objects,'category_id':classIds}"
   ]
  },
  {
   "cell_type": "code",
   "execution_count": null,
   "metadata": {},
   "outputs": [],
   "source": [
    "visualize(annotations, category_id_to_name)"
   ]
  },
  {
   "cell_type": "code",
   "execution_count": null,
   "metadata": {},
   "outputs": [],
   "source": [
    "# aug = get_aug([VerticalFlip(p=1)])\n",
    "aug = get_aug(doc_aug)\n",
    "augmented = aug(**annotations)\n",
    "visualize(augmented, category_id_to_name)"
   ]
  },
  {
   "cell_type": "code",
   "execution_count": null,
   "metadata": {},
   "outputs": [],
   "source": [
    "# augmented image is stored in \"augmented\"\n",
    "# print(augmented)"
   ]
  },
  {
   "cell_type": "code",
   "execution_count": null,
   "metadata": {},
   "outputs": [],
   "source": [
    "aug_h = augmented['image'].shape[0]\n",
    "aug_w = augmented['image'].shape[1]"
   ]
  },
  {
   "cell_type": "code",
   "execution_count": null,
   "metadata": {},
   "outputs": [],
   "source": [
    "# By geaxgx\n",
    "xml_body_1=\"\"\"<annotation>\n",
    "        <folder>FOLDER</folder>\n",
    "        <filename>{FILENAME}</filename>\n",
    "        <path>{PATH}</path>\n",
    "        <source>\n",
    "                <database>Unknown</database>\n",
    "        </source>\n",
    "        <size>\n",
    "                <width>{WIDTH}</width>\n",
    "                <height>{HEIGHT}</height>\n",
    "                <depth>3</depth>\n",
    "        </size>\n",
    "\"\"\"\n",
    "xml_object=\"\"\" <object>\n",
    "                <name>{CLASS}</name>\n",
    "                <pose>Unspecified</pose>\n",
    "                <truncated>0</truncated>\n",
    "                <difficult>0</difficult>\n",
    "                <bndbox>\n",
    "                        <xmin>{XMIN}</xmin>\n",
    "                        <ymin>{YMIN}</ymin>\n",
    "                        <xmax>{XMAX}</xmax>\n",
    "                        <ymax>{YMAX}</ymax>\n",
    "                </bndbox>\n",
    "        </object>\n",
    "\"\"\"\n",
    "xml_body_2=\"\"\"</annotation>        \n",
    "\"\"\"\n",
    "\n",
    "def save_to_voc(imgFile, xmlFile, aug, w, h):\n",
    "    with open(xmlFile,\"w\") as f:\n",
    "        f.write(xml_body_1.format(**{'FILENAME':os.path.basename(imgFile), 'PATH':imgFile,'WIDTH':w,'HEIGHT':h}))\n",
    "        for i,bb in enumerate(aug['bboxes']):            \n",
    "            f.write(xml_object.format(**{'CLASS':category_id_to_name[aug['category_id'][i]],'XMIN':int(aug['bboxes'][i][0]),'YMIN':int(aug['bboxes'][i][1]),'XMAX':int(aug['bboxes'][i][2]),'YMAX':int(aug['bboxes'][i][3])}))\n",
    "        f.write(xml_body_2)"
   ]
  },
  {
   "cell_type": "code",
   "execution_count": null,
   "metadata": {},
   "outputs": [],
   "source": [
    "save_to_voc(\"aug.jpg\",\"aug.xml\",augmented,aug_w,aug_h)\n",
    "cv2.imwrite(\"aug.jpg\",augmented['image'])"
   ]
  },
  {
   "cell_type": "code",
   "execution_count": null,
   "metadata": {},
   "outputs": [],
   "source": []
  }
 ],
 "metadata": {
  "kernelspec": {
   "display_name": "Python 3",
   "language": "python",
   "name": "python3"
  },
  "language_info": {
   "codemirror_mode": {
    "name": "ipython",
    "version": 3
   },
   "file_extension": ".py",
   "mimetype": "text/x-python",
   "name": "python",
   "nbconvert_exporter": "python",
   "pygments_lexer": "ipython3",
   "version": "3.7.3"
  }
 },
 "nbformat": 4,
 "nbformat_minor": 2
}
